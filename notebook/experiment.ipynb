{
 "cells": [
  {
   "cell_type": "code",
   "execution_count": 40,
   "metadata": {},
   "outputs": [],
   "source": [
    "import pandas as pd\n",
    "from itertools import chain\n",
    "import regex as re\n",
    "from underthesea import word_tokenize\n"
   ]
  },
  {
   "cell_type": "code",
   "execution_count": 2,
   "metadata": {},
   "outputs": [
    {
     "name": "stdout",
     "output_type": "stream",
     "text": [
      "<class 'pandas.core.frame.DataFrame'>\n",
      "RangeIndex: 2038 entries, 0 to 2037\n",
      "Data columns (total 1 columns):\n",
      " #   Column          Non-Null Count  Dtype \n",
      "---  ------          --------------  ----- \n",
      " 0   procedure_name  2038 non-null   object\n",
      "dtypes: object(1)\n",
      "memory usage: 16.0+ KB\n"
     ]
    }
   ],
   "source": [
    "df = pd.read_csv(\"../data/procedure.csv\")\n",
    "df.info()"
   ]
  },
  {
   "cell_type": "code",
   "execution_count": 3,
   "metadata": {},
   "outputs": [],
   "source": [
    "new_df = df.drop_duplicates()\n",
    "new_df.to_csv('../data/new_procedure.csv', index=False)"
   ]
  },
  {
   "cell_type": "code",
   "execution_count": 4,
   "metadata": {},
   "outputs": [
    {
     "data": {
      "text/html": [
       "<div>\n",
       "<style scoped>\n",
       "    .dataframe tbody tr th:only-of-type {\n",
       "        vertical-align: middle;\n",
       "    }\n",
       "\n",
       "    .dataframe tbody tr th {\n",
       "        vertical-align: top;\n",
       "    }\n",
       "\n",
       "    .dataframe thead th {\n",
       "        text-align: right;\n",
       "    }\n",
       "</style>\n",
       "<table border=\"1\" class=\"dataframe\">\n",
       "  <thead>\n",
       "    <tr style=\"text-align: right;\">\n",
       "      <th></th>\n",
       "      <th>procedure_name</th>\n",
       "    </tr>\n",
       "  </thead>\n",
       "  <tbody>\n",
       "    <tr>\n",
       "      <th>0</th>\n",
       "      <td>Thủ tục chuyển nhượng toàn bộ hoặc một phần dự...</td>\n",
       "    </tr>\n",
       "    <tr>\n",
       "      <th>1</th>\n",
       "      <td>Thủ tục cấp mới chứng chỉ hành nghề môi giới b...</td>\n",
       "    </tr>\n",
       "    <tr>\n",
       "      <th>2</th>\n",
       "      <td>Thủ tục cấp lại (cấp đổi) chứng chỉ hành nghề ...</td>\n",
       "    </tr>\n",
       "    <tr>\n",
       "      <th>3</th>\n",
       "      <td>Thủ tục thông báo nhà ở hình thành trong tương...</td>\n",
       "    </tr>\n",
       "    <tr>\n",
       "      <th>4</th>\n",
       "      <td>Thủ tục cho thuê, thuê mua nhà ở xã hội thuộc ...</td>\n",
       "    </tr>\n",
       "  </tbody>\n",
       "</table>\n",
       "</div>"
      ],
      "text/plain": [
       "                                      procedure_name\n",
       "0  Thủ tục chuyển nhượng toàn bộ hoặc một phần dự...\n",
       "1  Thủ tục cấp mới chứng chỉ hành nghề môi giới b...\n",
       "2  Thủ tục cấp lại (cấp đổi) chứng chỉ hành nghề ...\n",
       "3  Thủ tục thông báo nhà ở hình thành trong tương...\n",
       "4  Thủ tục cho thuê, thuê mua nhà ở xã hội thuộc ..."
      ]
     },
     "execution_count": 4,
     "metadata": {},
     "output_type": "execute_result"
    }
   ],
   "source": [
    "df = pd.read_csv('../data/new_procedure.csv')\n",
    "df.head()"
   ]
  },
  {
   "cell_type": "code",
   "execution_count": 15,
   "metadata": {},
   "outputs": [],
   "source": [
    "f = open('../data/ongia_VA.txt', 'r', encoding='utf-8')\n",
    "f_new = open('../data/procedure.txt', 'w', encoding='utf-8')\n",
    "procedures = f.readlines()\n",
    "for procedure in procedures:\n",
    "    procedure = procedure.replace('\\n','')\n",
    "    f_new.write(procedure+'\\t'+procedure)\n",
    "    f_new.write('\\n')\n",
    "f_new.close()\n"
   ]
  },
  {
   "cell_type": "code",
   "execution_count": 9,
   "metadata": {},
   "outputs": [],
   "source": [
    "def lcs(X, Y):\n",
    "    # find the length of the strings\n",
    "    m = len(X)\n",
    "    n = len(Y)\n",
    "\n",
    "    # declaring the array for storing the dp values\n",
    "    L = [[None] * (n + 1) for i in range(m + 1)]\n",
    "\n",
    "    \"\"\"Following steps build L[m + 1][n + 1] in bottom up fashion\n",
    "    Note: L[i][j] contains length of LCS of X[0..i-1]\n",
    "    and Y[0..j-1]\"\"\"\n",
    "    for i in range(m + 1):\n",
    "        for j in range(n + 1):\n",
    "            if i == 0 or j == 0:\n",
    "                L[i][j] = 0\n",
    "            elif X[i - 1] == Y[j - 1]:\n",
    "                L[i][j] = L[i - 1][j - 1] + 1\n",
    "            else:\n",
    "                L[i][j] = max(L[i - 1][j], L[i][j - 1])\n",
    "\n",
    "    return L[m][n]\n"
   ]
  },
  {
   "cell_type": "code",
   "execution_count": 16,
   "metadata": {},
   "outputs": [],
   "source": [
    "def load_dict_values(dict_file):\n",
    "    fin = open(dict_file, 'r', encoding='utf-8')\n",
    "    lines = fin.readlines()\n",
    "    fin.close()\n",
    "    values_dict = []\n",
    "    for line in lines:\n",
    "        # print('line : ', line)\n",
    "        items = line.strip().split('\\t')\n",
    "        # print('items : ', items)\n",
    "        if len(items) == 2:\n",
    "            words = items[0].lower().split()\n",
    "            values_dict.append((words, items[1]))\n",
    "    return values_dict\n"
   ]
  },
  {
   "cell_type": "code",
   "execution_count": null,
   "metadata": {},
   "outputs": [],
   "source": [
    "list_procedure = load_dict_values('../data/procedure.txt')\n",
    "list_procedure[:5]\n"
   ]
  },
  {
   "cell_type": "code",
   "execution_count": 19,
   "metadata": {},
   "outputs": [],
   "source": [
    "def find_best_matching_in_dict(query, values_dict):\n",
    "    query_words = query.lower().split()\n",
    "    max_ratio = 0\n",
    "    str_found = \"\"\n",
    "    for words, v in values_dict:\n",
    "        r = 1.0 * lcs(words, query_words) / len(words)\n",
    "        if r > max_ratio:\n",
    "            max_ratio = r\n",
    "            str_found = v\n",
    "    return str_found\n"
   ]
  },
  {
   "cell_type": "code",
   "execution_count": 61,
   "metadata": {},
   "outputs": [
    {
     "data": {
      "text/plain": [
       "'Thủ tục đăng ký kết hôn'"
      ]
     },
     "execution_count": 61,
     "metadata": {},
     "output_type": "execute_result"
    }
   ],
   "source": [
    "mingg = find_best_matching_in_dict('kết hôn lại', load_dict_values('../data/procedure.txt'))\n",
    "mingg"
   ]
  },
  {
   "cell_type": "code",
   "execution_count": 33,
   "metadata": {},
   "outputs": [],
   "source": [
    "def search_in_database(user_token):\n",
    "    df = pd.read_csv('../data/new_procedure.csv')\n",
    "    procedures = df[df.procedure_name.str.contains(user_token, na=False)]\n",
    "    # flatten 2d list\n",
    "    procedure_list = list(chain.from_iterable(procedures.values.tolist()))\n",
    "    procedure_list = sorted(procedure_list, key=len)\n",
    "    return procedure_list\n"
   ]
  },
  {
   "cell_type": "code",
   "execution_count": 69,
   "metadata": {},
   "outputs": [],
   "source": [
    "def remove_dup(result_list):\n",
    "    return list(dict.fromkeys(result_list))\n"
   ]
  },
  {
   "cell_type": "code",
   "execution_count": 34,
   "metadata": {},
   "outputs": [
    {
     "data": {
      "text/plain": [
       "['Thủ tục đăng ký kết hôn',\n",
       " 'Thủ tục đăng ký lại kết hôn',\n",
       " 'Thủ tục đăng ký kết hôn lưu động',\n",
       " 'Thủ tục Đăng ký kết hôn có yếu tố nước ngoài',\n",
       " 'Thủ tục Đăng ký lại kết hôn có yếu tố nước ngoài',\n",
       " 'Thủ tục Ghi vào Sổ hộ tịch việc kết hôn của công dân Việt Nam đã được giải quyết tại cơ quan có thẩm quyền của nước ngoài',\n",
       " 'Thủ tục Ghi vào Sổ hộ tịch việc ly hôn, hủy việc kết hôn của công dân Việt Nam đã được giải quyết tại cơ quan có thẩm quyền của nước ngoài']"
      ]
     },
     "execution_count": 34,
     "metadata": {},
     "output_type": "execute_result"
    }
   ],
   "source": [
    "kh = search_in_database('kết hôn')\n",
    "kh"
   ]
  },
  {
   "cell_type": "code",
   "execution_count": 36,
   "metadata": {},
   "outputs": [
    {
     "data": {
      "text/plain": [
       "['đăng ký kết hôn địt mẹ m']"
      ]
     },
     "execution_count": 36,
     "metadata": {},
     "output_type": "execute_result"
    }
   ],
   "source": [
    "user_sent = \"đăng ký kết hôn địt mẹ m\"\n",
    "tmp = [user_sent]\n",
    "tmp"
   ]
  },
  {
   "cell_type": "code",
   "execution_count": 75,
   "metadata": {},
   "outputs": [],
   "source": [
    "def ranking_result(user_sent:str):\n",
    "    values_dict = load_dict_values('../data/procedure.txt')\n",
    "    best_matching = find_best_matching_in_dict(user_sent, values_dict)\n",
    "    user_tokens = word_tokenize(user_sent)\n",
    "    tmp =[]\n",
    "    for token in user_tokens:\n",
    "        tmp += search_in_database(token)\n",
    "    unique_list = []\n",
    "    dup_list = []\n",
    "    for element in tmp:\n",
    "        if element not in unique_list:\n",
    "            unique_list.append(element)\n",
    "        else:\n",
    "            dup_list.append(element)\n",
    "    dup_list = remove_dup(dup_list)\n",
    "    for element in dup_list:\n",
    "        if element in unique_list:\n",
    "            unique_list.remove(element)\n",
    "    if len(dup_list) == 0:\n",
    "        return unique_list[:5]\n",
    "    elif len(dup_list) <5 :\n",
    "        n = 5 - len(dup_list)\n",
    "        if best_matching:\n",
    "            result = [best_matching] + dup_list + unique_list[:10]\n",
    "            result = remove_dup(result)\n",
    "            return result[:5]\n",
    "        else :\n",
    "            result = dup_list + unique_list[:5-n]\n",
    "            return result[:5]\n",
    "    else:\n",
    "        if best_matching in dup_list:\n",
    "            result = [best_matching] + dup_list\n",
    "            result = remove_dup(result)\n",
    "            return result[:5]\n",
    "        else:\n",
    "            return dup_list[:5]"
   ]
  },
  {
   "cell_type": "code",
   "execution_count": 78,
   "metadata": {},
   "outputs": [
    {
     "data": {
      "text/plain": [
       "['Thủ tục đăng ký lại khai sinh',\n",
       " 'Thủ tục Đăng ký lại khai sinh có yếu tố nước ngoài',\n",
       " 'Thủ tục đăng ký khai sinh',\n",
       " 'Thủ tục đăng ký lại khai tử',\n",
       " 'Thủ tục đăng ký lại kết hôn']"
      ]
     },
     "execution_count": 78,
     "metadata": {},
     "output_type": "execute_result"
    }
   ],
   "source": [
    "mingg = ranking_result('khai sinh lại đăng ký')\n",
    "mingg"
   ]
  }
 ],
 "metadata": {
  "kernelspec": {
   "display_name": "Python 3.7.9 ('venv': venv)",
   "language": "python",
   "name": "python3"
  },
  "language_info": {
   "codemirror_mode": {
    "name": "ipython",
    "version": 3
   },
   "file_extension": ".py",
   "mimetype": "text/x-python",
   "name": "python",
   "nbconvert_exporter": "python",
   "pygments_lexer": "ipython3",
   "version": "3.7.9"
  },
  "orig_nbformat": 4,
  "vscode": {
   "interpreter": {
    "hash": "0f0d15900f1d5306ea75a56b5455f6f0a7c97f1bcb5da868bacda0adc2b6b996"
   }
  }
 },
 "nbformat": 4,
 "nbformat_minor": 2
}
